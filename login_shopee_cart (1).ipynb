{
 "cells": [
  {
   "cell_type": "code",
   "execution_count": 210,
   "id": "801ef885",
   "metadata": {
    "scrolled": true
   },
   "outputs": [
    {
     "ename": "PermissionError",
     "evalue": "[Errno 13] Permission denied: 'order_data.csv'",
     "output_type": "error",
     "traceback": [
      "\u001b[1;31m---------------------------------------------------------------------------\u001b[0m",
      "\u001b[1;31mPermissionError\u001b[0m                           Traceback (most recent call last)",
      "\u001b[1;32m~\\AppData\\Local\\Temp\\ipykernel_16268\\2575114865.py\u001b[0m in \u001b[0;36m<module>\u001b[1;34m\u001b[0m\n\u001b[0;32m     73\u001b[0m     \u001b[0mfiles\u001b[0m\u001b[1;33m.\u001b[0m\u001b[0mdownload\u001b[0m\u001b[1;33m(\u001b[0m\u001b[0mfilename\u001b[0m\u001b[1;33m)\u001b[0m\u001b[1;33m\u001b[0m\u001b[1;33m\u001b[0m\u001b[0m\n\u001b[0;32m     74\u001b[0m \u001b[1;33m\u001b[0m\u001b[0m\n\u001b[1;32m---> 75\u001b[1;33m \u001b[0mlogin_shopee_cart\u001b[0m\u001b[1;33m(\u001b[0m\u001b[1;33m)\u001b[0m\u001b[1;33m\u001b[0m\u001b[1;33m\u001b[0m\u001b[0m\n\u001b[0m",
      "\u001b[1;32m~\\AppData\\Local\\Temp\\ipykernel_16268\\2575114865.py\u001b[0m in \u001b[0;36mlogin_shopee_cart\u001b[1;34m()\u001b[0m\n\u001b[0;32m     62\u001b[0m     \u001b[0mfilename\u001b[0m \u001b[1;33m=\u001b[0m \u001b[1;34m'order_data.csv'\u001b[0m\u001b[1;33m\u001b[0m\u001b[1;33m\u001b[0m\u001b[0m\n\u001b[0;32m     63\u001b[0m \u001b[1;33m\u001b[0m\u001b[0m\n\u001b[1;32m---> 64\u001b[1;33m     \u001b[1;32mwith\u001b[0m \u001b[0mcodecs\u001b[0m\u001b[1;33m.\u001b[0m\u001b[0mopen\u001b[0m\u001b[1;33m(\u001b[0m\u001b[0mfilename\u001b[0m\u001b[1;33m,\u001b[0m \u001b[1;34m'w'\u001b[0m\u001b[1;33m,\u001b[0m \u001b[1;34m'utf-8-sig'\u001b[0m\u001b[1;33m)\u001b[0m \u001b[1;32mas\u001b[0m \u001b[0mcsvfile\u001b[0m\u001b[1;33m:\u001b[0m\u001b[1;33m\u001b[0m\u001b[1;33m\u001b[0m\u001b[0m\n\u001b[0m\u001b[0;32m     65\u001b[0m         \u001b[0mcsv_cols\u001b[0m \u001b[1;33m=\u001b[0m \u001b[1;33m[\u001b[0m\u001b[1;34m'name'\u001b[0m\u001b[1;33m,\u001b[0m \u001b[1;34m'price_before_discount'\u001b[0m\u001b[1;33m,\u001b[0m \u001b[1;34m'discounted_price'\u001b[0m\u001b[1;33m]\u001b[0m\u001b[1;33m\u001b[0m\u001b[1;33m\u001b[0m\u001b[0m\n\u001b[0;32m     66\u001b[0m         \u001b[0mwriter\u001b[0m \u001b[1;33m=\u001b[0m \u001b[0mcsv\u001b[0m\u001b[1;33m.\u001b[0m\u001b[0mDictWriter\u001b[0m\u001b[1;33m(\u001b[0m\u001b[0mcsvfile\u001b[0m\u001b[1;33m,\u001b[0m \u001b[0mfieldnames\u001b[0m\u001b[1;33m=\u001b[0m\u001b[0mcsv_cols\u001b[0m\u001b[1;33m)\u001b[0m\u001b[1;33m\u001b[0m\u001b[1;33m\u001b[0m\u001b[0m\n",
      "\u001b[1;32m~\\anaconda3\\lib\\codecs.py\u001b[0m in \u001b[0;36mopen\u001b[1;34m(filename, mode, encoding, errors, buffering)\u001b[0m\n\u001b[0;32m    903\u001b[0m         \u001b[1;31m# Force opening of the file in binary mode\u001b[0m\u001b[1;33m\u001b[0m\u001b[1;33m\u001b[0m\u001b[0m\n\u001b[0;32m    904\u001b[0m         \u001b[0mmode\u001b[0m \u001b[1;33m=\u001b[0m \u001b[0mmode\u001b[0m \u001b[1;33m+\u001b[0m \u001b[1;34m'b'\u001b[0m\u001b[1;33m\u001b[0m\u001b[1;33m\u001b[0m\u001b[0m\n\u001b[1;32m--> 905\u001b[1;33m     \u001b[0mfile\u001b[0m \u001b[1;33m=\u001b[0m \u001b[0mbuiltins\u001b[0m\u001b[1;33m.\u001b[0m\u001b[0mopen\u001b[0m\u001b[1;33m(\u001b[0m\u001b[0mfilename\u001b[0m\u001b[1;33m,\u001b[0m \u001b[0mmode\u001b[0m\u001b[1;33m,\u001b[0m \u001b[0mbuffering\u001b[0m\u001b[1;33m)\u001b[0m\u001b[1;33m\u001b[0m\u001b[1;33m\u001b[0m\u001b[0m\n\u001b[0m\u001b[0;32m    906\u001b[0m     \u001b[1;32mif\u001b[0m \u001b[0mencoding\u001b[0m \u001b[1;32mis\u001b[0m \u001b[1;32mNone\u001b[0m\u001b[1;33m:\u001b[0m\u001b[1;33m\u001b[0m\u001b[1;33m\u001b[0m\u001b[0m\n\u001b[0;32m    907\u001b[0m         \u001b[1;32mreturn\u001b[0m \u001b[0mfile\u001b[0m\u001b[1;33m\u001b[0m\u001b[1;33m\u001b[0m\u001b[0m\n",
      "\u001b[1;31mPermissionError\u001b[0m: [Errno 13] Permission denied: 'order_data.csv'"
     ]
    }
   ],
   "source": [
    "from selenium import webdriver\n",
    "from selenium.webdriver.chrome.options import Options\n",
    "import time\n",
    "import requests\n",
    "import json\n",
    "import csv\n",
    "import codecs\n",
    "#import files\n",
    "#from google.colab import files\n",
    "\n",
    "def login_shopee_cart():\n",
    "    headers = {\n",
    "        #'X-Csrftoken': 'YKdXuUy8RTIeY4qFX7mON31uBrG7wKpY',\n",
    "        'Referer': 'https://shopee.tw/cart',\n",
    "        'Content-Type': 'application/json',\n",
    "        'User-Agent': 'Mozilla/5.0 (Windows NT 10.0; Win64; x64) AppleWebKit/537.36 (KHTML, like Gecko) Chrome/113.0.0.0 Safari/537.36',\n",
    "        'Cookie': '__LOCALE__null=TW; SPC_SI=5zdjZAAAAAA4Zmd0d0Z1b29ybAAAAAAAbE11VFFKMGY=; SPC_F=86nCLn6Xox0wuzZdDnLxM1nEBV4isXqd; REC_T_ID=4ac62cfe-f58c-11ed-a88a-089204a40310; _gcl_au=1.1.1114933354.1684421842; _fbp=fb.1.1684421842056.571235147; csrftoken=JO6fNbGWQjpNOGniQe3dOtilNuKA1bSy; _QPWSDCXHZQA=311ab68e-82fb-4ebb-b28c-98a0d70a08e6; AMP_TOKEN=%24NOT_FOUND; _gid=GA1.2.1259108027.1684421844; SPC_CLIENTID=ODZuQ0xuNlhveDB3vrsnjbwbdncjfqan; SPC_ST=.eHJxeXhuOUVsVjQwU2M0ZjzVeOdU1VXuQG38SoWpSZBUj+qbbAV2JSQ9OynWNQdwxH8JoUOuxElNqN1xUsK2LRyWE6NzqzckMn5RKNw/HJjcMtBDuFLaavPAvo6e+kCAVTx01PQmyzu1kDfNlWdB4tGf/yV1mWoI/YSk2qDdax9FRGn0+1tEG822XSrtBXBNfEDMx1u9zHml786YVU+WkQ==; SPC_U=304599010; SPC_R_T_ID=Blcye2F1Mv6mrkoG8oXRmgg3h0ja5XFqhO+LUsjA//A/+5XRmlp823LLSjQJGGhvUcH0ZFVbEXyBk9HqV49ZJnCGpw6y+2Ioz0hNVFcY+jw65wYGPkkvp/KkTw0FZAWEd1ntg+85MV5+wOt5TDgPah9H6uEfT1v5b47OWlFwK2E=; SPC_R_T_IV=OEc0WjZDVFhsVmRnRE1lYw==; SPC_T_ID=Blcye2F1Mv6mrkoG8oXRmgg3h0ja5XFqhO+LUsjA//A/+5XRmlp823LLSjQJGGhvUcH0ZFVbEXyBk9HqV49ZJnCGpw6y+2Ioz0hNVFcY+jw65wYGPkkvp/KkTw0FZAWEd1ntg+85MV5+wOt5TDgPah9H6uEfT1v5b47OWlFwK2E=; SPC_T_IV=OEc0WjZDVFhsVmRnRE1lYw==; _ga_RPSBE3TQZZ=GS1.1.1684421844.1.1.1684421975.59.0.0; _ga=GA1.1.1247503711.1684421844; shopee_webUnique_ccd=RW0anrtKyjlZX%2Fu2DBHnXw%3D%3D%7CyKsaro0jJLjzjl9OWM0lEkjd4fDqrNpx84XqM7N6UPggK4qIT2qs5o1sDLcvPD7sSJnRDfN%2FYCqpanDfrye8DohMDoVWtbQyUrM%3D%7ClDPmanBsYhe6AqgN%7C06%7C3; ds=ea9267b63267aa6ffe595df3f345c26f; SPC_EC=dEVEa1l2cFg4Ym15UGdVSj343uXLr0nXSQdrj9eOEBIEzyCIv7InuwSIVi9WsVCiNImIbO0YOOFrE7HYPfBftEHWvI8Dh2gIIuuCMMDHrEqB8V3AoyQn6mGdiBI2SsNHUjfaYVgLO3k+Fbqql8O+jgseqdZ7nPxWNvI/SN09W4s='\n",
    "    }\n",
    "    \n",
    "    payload = json.loads('{\"pre_selected_item_list\":[],\"updated_time_filter\":{\"start_time\":0},\"version\":203}')\n",
    "    res = requests.post('https://shopee.tw/api/v4/cart/get', json = payload, headers = headers)\n",
    "\n",
    "    my_options = Options()\n",
    "    my_options.add_argument('--start-maximized')\n",
    "    driver = webdriver.Chrome(options=my_options)\n",
    "    driver.implicitly_wait(15)  # 最多等待 15 秒钟\n",
    "    time.sleep(2)\n",
    "\n",
    "    # 登录蝦皮購物車\n",
    "    driver.get('https://shopee.tw/cart')\n",
    "    driver.refresh()\n",
    "    \n",
    "    data = res.json()\n",
    "    \n",
    "    shop_orders = data['data']['shop_orders']\n",
    "\n",
    "    order_data = []\n",
    "\n",
    "    for i in shop_orders:\n",
    "        for shop_orders_dict in i['items']:\n",
    "            name = shop_orders_dict['name']\n",
    "            undiscount = shop_orders_dict['price_before_discount']\n",
    "            discounted = shop_orders_dict['price']\n",
    "\n",
    "            if type(undiscount) is not int:\n",
    "                undiscount = discounted // 100000\n",
    "                discounted = discounted // 100000\n",
    "            else:\n",
    "                undiscount = undiscount // 100000\n",
    "                discounted = discounted // 100000\n",
    "\n",
    "            order_dict = {\n",
    "                'name': name,\n",
    "                'price_before_discount': undiscount,\n",
    "                'discounted_price': discounted\n",
    "            }\n",
    "\n",
    "            order_data.append(order_dict)\n",
    "\n",
    "    #print(order_data)        \n",
    "\n",
    "    filename = 'order_data.csv'\n",
    "\n",
    "    with codecs.open(filename, 'w', 'utf-8-sig') as csvfile:\n",
    "        csv_cols = ['name', 'price_before_discount', 'discounted_price']\n",
    "        writer = csv.DictWriter(csvfile, fieldnames=csv_cols)\n",
    "        writer.writeheader()\n",
    "        writer.writerows(order_data)\n",
    "\n",
    "    print(\"Data has been successfully stored in the CSV file.\")\n",
    "    print(\"Downloading the file...\")\n",
    "\n",
    "    files.download(filename)\n",
    "\n",
    "login_shopee_cart()"
   ]
  },
  {
   "cell_type": "code",
   "execution_count": 2,
   "id": "056bd965",
   "metadata": {
    "scrolled": true
   },
   "outputs": [
    {
     "name": "stdout",
     "output_type": "stream",
     "text": [
      "Collecting webdriver_manager\n",
      "  Using cached webdriver_manager-3.8.6-py2.py3-none-any.whl (27 kB)\n",
      "Collecting tqdm\n",
      "  Using cached tqdm-4.65.0-py3-none-any.whl (77 kB)\n",
      "Collecting packaging\n",
      "  Using cached packaging-23.1-py3-none-any.whl (48 kB)\n",
      "Collecting python-dotenv\n",
      "  Using cached python_dotenv-1.0.0-py3-none-any.whl (19 kB)\n",
      "Collecting requests\n",
      "  Using cached requests-2.30.0-py3-none-any.whl (62 kB)\n",
      "Collecting charset-normalizer<4,>=2\n",
      "  Using cached charset_normalizer-3.1.0-cp39-cp39-win_amd64.whl (97 kB)\n",
      "Collecting idna<4,>=2.5\n",
      "  Using cached idna-3.4-py3-none-any.whl (61 kB)\n",
      "Collecting certifi>=2017.4.17\n",
      "  Using cached certifi-2023.5.7-py3-none-any.whl (156 kB)\n",
      "Collecting urllib3<3,>=1.21.1\n",
      "  Using cached urllib3-2.0.2-py3-none-any.whl (123 kB)\n",
      "Collecting colorama\n",
      "  Using cached colorama-0.4.6-py2.py3-none-any.whl (25 kB)\n",
      "Installing collected packages: urllib3, python-dotenv, packaging, idna, colorama, charset-normalizer, certifi, tqdm, requests, webdriver_manager\n",
      "  Attempting uninstall: urllib3\n",
      "    Found existing installation: urllib3 1.26.15\n",
      "    Uninstalling urllib3-1.26.15:\n",
      "      Successfully uninstalled urllib3-1.26.15\n",
      "  Attempting uninstall: python-dotenv\n",
      "    Found existing installation: python-dotenv 1.0.0\n",
      "    Uninstalling python-dotenv-1.0.0:\n",
      "      Successfully uninstalled python-dotenv-1.0.0\n",
      "  Attempting uninstall: packaging\n",
      "    Found existing installation: packaging 23.1\n",
      "    Uninstalling packaging-23.1:\n",
      "      Successfully uninstalled packaging-23.1\n",
      "  Attempting uninstall: idna\n",
      "    Found existing installation: idna 3.4\n",
      "    Uninstalling idna-3.4:\n",
      "      Successfully uninstalled idna-3.4\n",
      "  Attempting uninstall: colorama\n",
      "    Found existing installation: colorama 0.4.6\n",
      "    Uninstalling colorama-0.4.6:\n",
      "      Successfully uninstalled colorama-0.4.6\n",
      "  Attempting uninstall: charset-normalizer\n",
      "    Found existing installation: charset-normalizer 3.1.0\n",
      "    Uninstalling charset-normalizer-3.1.0:\n",
      "      Successfully uninstalled charset-normalizer-3.1.0\n"
     ]
    },
    {
     "name": "stderr",
     "output_type": "stream",
     "text": [
      "ERROR: Could not install packages due to an OSError: [WinError 5] Access is denied: 'C:\\\\Users\\\\Jasmine Yeo\\\\anaconda3\\\\Lib\\\\site-packages\\\\~-arset_normalizer\\\\md.cp39-win_amd64.pyd'\n",
      "Consider using the `--user` option or check the permissions.\n",
      "\n"
     ]
    }
   ],
   "source": [
    "!pip install --force-reinstall webdriver_manager"
   ]
  },
  {
   "cell_type": "code",
   "execution_count": 169,
   "id": "e2ad217c",
   "metadata": {},
   "outputs": [
    {
     "name": "stdout",
     "output_type": "stream",
     "text": [
      "Requirement already satisfied: selenium in c:\\users\\jasmine yeo\\anaconda3\\lib\\site-packages (4.8.3)\n",
      "Requirement already satisfied: trio~=0.17 in c:\\users\\jasmine yeo\\anaconda3\\lib\\site-packages (from selenium) (0.22.0)\n",
      "Requirement already satisfied: certifi>=2021.10.8 in c:\\users\\jasmine yeo\\anaconda3\\lib\\site-packages (from selenium) (2023.5.7)\n",
      "Requirement already satisfied: urllib3[socks]~=1.26 in c:\\users\\jasmine yeo\\anaconda3\\lib\\site-packages (from selenium) (1.26.15)\n",
      "Requirement already satisfied: trio-websocket~=0.9 in c:\\users\\jasmine yeo\\anaconda3\\lib\\site-packages (from selenium) (0.10.2)\n",
      "Requirement already satisfied: idna in c:\\users\\jasmine yeo\\anaconda3\\lib\\site-packages (from trio~=0.17->selenium) (3.4)\n",
      "Requirement already satisfied: async-generator>=1.9 in c:\\users\\jasmine yeo\\anaconda3\\lib\\site-packages (from trio~=0.17->selenium) (1.10)\n",
      "Requirement already satisfied: outcome in c:\\users\\jasmine yeo\\anaconda3\\lib\\site-packages (from trio~=0.17->selenium) (1.2.0)\n",
      "Requirement already satisfied: sniffio in c:\\users\\jasmine yeo\\anaconda3\\lib\\site-packages (from trio~=0.17->selenium) (1.2.0)\n",
      "Requirement already satisfied: cffi>=1.14 in c:\\users\\jasmine yeo\\anaconda3\\lib\\site-packages (from trio~=0.17->selenium) (1.15.1)\n",
      "Requirement already satisfied: exceptiongroup>=1.0.0rc9 in c:\\users\\jasmine yeo\\anaconda3\\lib\\site-packages (from trio~=0.17->selenium) (1.1.1)\n",
      "Requirement already satisfied: attrs>=19.2.0 in c:\\users\\jasmine yeo\\anaconda3\\lib\\site-packages (from trio~=0.17->selenium) (21.4.0)\n",
      "Requirement already satisfied: sortedcontainers in c:\\users\\jasmine yeo\\anaconda3\\lib\\site-packages (from trio~=0.17->selenium) (2.4.0)\n",
      "Requirement already satisfied: wsproto>=0.14 in c:\\users\\jasmine yeo\\anaconda3\\lib\\site-packages (from trio-websocket~=0.9->selenium) (1.2.0)\n",
      "Requirement already satisfied: PySocks!=1.5.7,<2.0,>=1.5.6 in c:\\users\\jasmine yeo\\anaconda3\\lib\\site-packages (from urllib3[socks]~=1.26->selenium) (1.7.1)\n",
      "Requirement already satisfied: pycparser in c:\\users\\jasmine yeo\\anaconda3\\lib\\site-packages (from cffi>=1.14->trio~=0.17->selenium) (2.21)\n",
      "Requirement already satisfied: h11<1,>=0.9.0 in c:\\users\\jasmine yeo\\anaconda3\\lib\\site-packages (from wsproto>=0.14->trio-websocket~=0.9->selenium) (0.14.0)\n"
     ]
    }
   ],
   "source": [
    "!pip install selenium"
   ]
  },
  {
   "cell_type": "code",
   "execution_count": 162,
   "id": "d5e993e9",
   "metadata": {},
   "outputs": [
    {
     "name": "stdout",
     "output_type": "stream",
     "text": [
      "Requirement already satisfied: google-api-python-client in c:\\users\\jasmine yeo\\anaconda3\\lib\\site-packages (2.86.0)\n",
      "Requirement already satisfied: httplib2<1dev,>=0.15.0 in c:\\users\\jasmine yeo\\anaconda3\\lib\\site-packages (from google-api-python-client) (0.22.0)\n",
      "Requirement already satisfied: uritemplate<5,>=3.0.1 in c:\\users\\jasmine yeo\\anaconda3\\lib\\site-packages (from google-api-python-client) (4.1.1)\n",
      "Requirement already satisfied: google-auth<3.0.0dev,>=1.19.0 in c:\\users\\jasmine yeo\\anaconda3\\lib\\site-packages (from google-api-python-client) (2.18.1)\n",
      "Requirement already satisfied: google-auth-httplib2>=0.1.0 in c:\\users\\jasmine yeo\\anaconda3\\lib\\site-packages (from google-api-python-client) (0.1.0)\n",
      "Requirement already satisfied: google-api-core!=2.0.*,!=2.1.*,!=2.2.*,!=2.3.0,<3.0.0dev,>=1.31.5 in c:\\users\\jasmine yeo\\anaconda3\\lib\\site-packages (from google-api-python-client) (2.11.0)\n",
      "Requirement already satisfied: requests<3.0.0dev,>=2.18.0 in c:\\users\\jasmine yeo\\anaconda3\\lib\\site-packages (from google-api-core!=2.0.*,!=2.1.*,!=2.2.*,!=2.3.0,<3.0.0dev,>=1.31.5->google-api-python-client) (2.30.0)\n",
      "Requirement already satisfied: protobuf!=3.20.0,!=3.20.1,!=4.21.0,!=4.21.1,!=4.21.2,!=4.21.3,!=4.21.4,!=4.21.5,<5.0.0dev,>=3.19.5 in c:\\users\\jasmine yeo\\anaconda3\\lib\\site-packages (from google-api-core!=2.0.*,!=2.1.*,!=2.2.*,!=2.3.0,<3.0.0dev,>=1.31.5->google-api-python-client) (4.23.1)\n",
      "Requirement already satisfied: googleapis-common-protos<2.0dev,>=1.56.2 in c:\\users\\jasmine yeo\\anaconda3\\lib\\site-packages (from google-api-core!=2.0.*,!=2.1.*,!=2.2.*,!=2.3.0,<3.0.0dev,>=1.31.5->google-api-python-client) (1.59.0)\n",
      "Requirement already satisfied: urllib3<2.0 in c:\\users\\jasmine yeo\\anaconda3\\lib\\site-packages (from google-auth<3.0.0dev,>=1.19.0->google-api-python-client) (1.26.15)\n",
      "Requirement already satisfied: pyasn1-modules>=0.2.1 in c:\\users\\jasmine yeo\\anaconda3\\lib\\site-packages (from google-auth<3.0.0dev,>=1.19.0->google-api-python-client) (0.2.8)\n",
      "Requirement already satisfied: rsa<5,>=3.1.4 in c:\\users\\jasmine yeo\\anaconda3\\lib\\site-packages (from google-auth<3.0.0dev,>=1.19.0->google-api-python-client) (4.9)\n",
      "Requirement already satisfied: cachetools<6.0,>=2.0.0 in c:\\users\\jasmine yeo\\anaconda3\\lib\\site-packages (from google-auth<3.0.0dev,>=1.19.0->google-api-python-client) (5.3.0)\n",
      "Requirement already satisfied: six>=1.9.0 in c:\\users\\jasmine yeo\\anaconda3\\lib\\site-packages (from google-auth<3.0.0dev,>=1.19.0->google-api-python-client) (1.16.0)\n",
      "Requirement already satisfied: pyparsing!=3.0.0,!=3.0.1,!=3.0.2,!=3.0.3,<4,>=2.4.2 in c:\\users\\jasmine yeo\\anaconda3\\lib\\site-packages (from httplib2<1dev,>=0.15.0->google-api-python-client) (3.0.9)\n",
      "Requirement already satisfied: pyasn1<0.5.0,>=0.4.6 in c:\\users\\jasmine yeo\\anaconda3\\lib\\site-packages (from pyasn1-modules>=0.2.1->google-auth<3.0.0dev,>=1.19.0->google-api-python-client) (0.4.8)\n",
      "Requirement already satisfied: charset-normalizer<4,>=2 in c:\\users\\jasmine yeo\\anaconda3\\lib\\site-packages (from requests<3.0.0dev,>=2.18.0->google-api-core!=2.0.*,!=2.1.*,!=2.2.*,!=2.3.0,<3.0.0dev,>=1.31.5->google-api-python-client) (3.1.0)\n",
      "Requirement already satisfied: certifi>=2017.4.17 in c:\\users\\jasmine yeo\\anaconda3\\lib\\site-packages (from requests<3.0.0dev,>=2.18.0->google-api-core!=2.0.*,!=2.1.*,!=2.2.*,!=2.3.0,<3.0.0dev,>=1.31.5->google-api-python-client) (2023.5.7)\n",
      "Requirement already satisfied: idna<4,>=2.5 in c:\\users\\jasmine yeo\\anaconda3\\lib\\site-packages (from requests<3.0.0dev,>=2.18.0->google-api-core!=2.0.*,!=2.1.*,!=2.2.*,!=2.3.0,<3.0.0dev,>=1.31.5->google-api-python-client) (3.4)\n"
     ]
    }
   ],
   "source": [
    "!pip install --upgrade google-api-python-client"
   ]
  }
 ],
 "metadata": {
  "kernelspec": {
   "display_name": "Python 3 (ipykernel)",
   "language": "python",
   "name": "python3"
  },
  "language_info": {
   "codemirror_mode": {
    "name": "ipython",
    "version": 3
   },
   "file_extension": ".py",
   "mimetype": "text/x-python",
   "name": "python",
   "nbconvert_exporter": "python",
   "pygments_lexer": "ipython3",
   "version": "3.9.13"
  }
 },
 "nbformat": 4,
 "nbformat_minor": 5
}
